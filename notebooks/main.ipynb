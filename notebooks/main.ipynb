{
 "cells": [
  {
   "cell_type": "code",
   "execution_count": 1,
   "metadata": {},
   "outputs": [],
   "source": [
    "%load_ext autoreload\n",
    "%autoreload 2"
   ]
  },
  {
   "cell_type": "code",
   "execution_count": 2,
   "metadata": {},
   "outputs": [],
   "source": [
    "import psycopg2 as pg\n",
    "\n",
    "conn = pg.connect(dbname='bdtp4', user='mard', password='1234')\n",
    "cur = conn.cursor()"
   ]
  },
  {
   "cell_type": "code",
   "execution_count": 12,
   "metadata": {},
   "outputs": [],
   "source": [
    "import lzma\n",
    "import json\n",
    "\n",
    "with lzma.open('../data/dataset.json.xz') as file:\n",
    "    values = []    \n",
    "    for line in file:\n",
    "        product = json.loads(line)\n",
    "        product = tuple(\n",
    "            product.get(key, None) \n",
    "            for key in ['Id', 'ASIN', 'title', 'group', 'salesrank']\n",
    "        )\n",
    "        product = cur.mogrify('(%s,%s,%s,%s,%s)', product)\n",
    "        values.append(product)\n",
    "\n",
    "    try:\n",
    "        cur.execute(\n",
    "            b'INSERT INTO product(id,asin,title,\"group\",sales_rank) VALUES ' + \n",
    "            b','.join(values)\n",
    "        )\n",
    "        conn.commit()\n",
    "    except Exception as e:\n",
    "        print(e)\n",
    "        conn.rollback()\n",
    "        conn.reset()"
   ]
  },
  {
   "cell_type": "code",
   "execution_count": 15,
   "metadata": {},
   "outputs": [],
   "source": [
    "with lzma.open('../data/dataset.json.xz') as file:\n",
    "    uniqueCategories = set(\n",
    "        cur.mogrify('(%s,%s)', cat)\n",
    "        for product in map(json.loads, file) if 'categories' in product \n",
    "        for catList in product['categories']\n",
    "        for cat in catList\n",
    "    )\n",
    "    \n",
    "    try:\n",
    "        cur.execute(\n",
    "            b'INSERT INTO category(id,name) VALUES ' +\n",
    "            b','.join(uniqueCategories)\n",
    "        )\n",
    "        conn.commit()\n",
    "    except Exception as e:\n",
    "        print(e)\n",
    "        conn.rollback()\n",
    "        conn.reset()"
   ]
  },
  {
   "cell_type": "code",
   "execution_count": 3,
   "metadata": {},
   "outputs": [],
   "source": [
    "import lzma\n",
    "import json\n",
    "from bdtp4.util import Oven\n",
    "import tqdm\n",
    "\n",
    "with lzma.open('../data/dataset.json.xz') as file:\n",
    "    values = set(\n",
    "        cur.mogrify('(%s,%s,%s)', (prod.get('Id', None), catId, i))\n",
    "        for prod in map(json.loads, file)\n",
    "        if 'categories' in prod\n",
    "        for catList in prod['categories']\n",
    "        for i, (catId, catName) in enumerate(catList)\n",
    "    )\n",
    "    \n",
    "    for batch in tqdm.tqdm(Oven(values, len(values) / 10), total=len(values) / 10):\n",
    "        try:\n",
    "            cur.execute(\n",
    "                b'INSERT INTO product_category(prod_id,cat_id,index) VALUES ' +\n",
    "                b','.join(batch)\n",
    "            )\n",
    "            conn.commit()\n",
    "        except Exception as e:\n",
    "            print(e)\n",
    "            conn.rollback()\n",
    "            conn.reset()"
   ]
  },
  {
   "cell_type": "code",
   "execution_count": 9,
   "metadata": {},
   "outputs": [],
   "source": [
    "with lzma.open('../data/dataset.json.xz') as file:\n",
    "    prods = {\n",
    "        prod['ASIN']: {key: prod[key] for key in ['Id', 'similar'] if key in prod}\n",
    "        for prod in map(json.loads, file)\n",
    "    }"
   ]
  },
  {
   "cell_type": "code",
   "execution_count": 23,
   "metadata": {},
   "outputs": [],
   "source": [
    "values = (\n",
    "    cur.mogrify('(%s,%s)', (prod.get('Id', None), prods[sim].get('Id', None)))\n",
    "    for prod in prods.values()\n",
    "    if 'similar' in prod\n",
    "    for sim in prod['similar']\n",
    "    if sim in prods\n",
    ")\n",
    "\n",
    "try:\n",
    "    cur.execute(\n",
    "        b'INSERT INTO product_similar(first_prod_id,second_prod_id) VALUES ' +\n",
    "        b','.join(values)\n",
    "    )\n",
    "    conn.commit()\n",
    "except Exception as e:\n",
    "    print(e)\n",
    "    conn.rollback()\n",
    "    conn.reset()"
   ]
  },
  {
   "cell_type": "code",
   "execution_count": 32,
   "metadata": {},
   "outputs": [],
   "source": [
    "with lzma.open('../data/dataset.json.xz') as file:\n",
    "    values = set(\n",
    "        cur.mogrify(\n",
    "            '(to_timestamp(%s),%s,%s,%s,%s,%s)', \n",
    "            (review['time'], prod['Id'], review['customer_id'], review['rating'], review['votes'], review['helpful'])\n",
    "        )\n",
    "        for prod in map(json.loads, file)\n",
    "        if 'reviews' in prod\n",
    "        for review in prod['reviews']\n",
    "    )\n",
    "    \n",
    "    try:\n",
    "        for batch in Oven(values, 500000):\n",
    "            cur.execute(\n",
    "                b'INSERT INTO review(time,prod_id,customer_id,rating,votes,helpful) VALUES ' +\n",
    "                b','.join(batch)\n",
    "            )\n",
    "            conn.commit()\n",
    "    except Exception as e:\n",
    "        print(e)\n",
    "        conn.rollback()\n",
    "        conn.reset()"
   ]
  },
  {
   "cell_type": "code",
   "execution_count": 36,
   "metadata": {},
   "outputs": [
    {
     "name": "stderr",
     "output_type": "stream",
     "text": [
      "100%|██████████| 3/3 [00:00<00:00, 17.01it/s]\n"
     ]
    },
    {
     "name": "stdout",
     "output_type": "stream",
     "text": [
      "3\n",
      "7\n",
      "9\n"
     ]
    }
   ],
   "source": [
    "from concurrent.futures.process import ProcessPoolExecutor\n",
    "from concurrent.futures import as_completed\n",
    "import tqdm\n",
    "\n",
    "def worker(args):\n",
    "    arg1, arg2 = args\n",
    "    return arg1 + arg2\n",
    "    \n",
    "with ProcessPoolExecutor() as executor:\n",
    "    data = [(1,2), (3,4), (4,5)]\n",
    "    futures = (executor.submit(worker, x) for x in data)\n",
    "    for fut in tqdm.tqdm(as_completed(futures), total=len(data)):\n",
    "        print(fut.result())"
   ]
  },
  {
   "cell_type": "code",
   "execution_count": 21,
   "metadata": {},
   "outputs": [
    {
     "data": {
      "text/plain": [
       "b'(999,497297)'"
      ]
     },
     "execution_count": 21,
     "metadata": {},
     "output_type": "execute_result"
    }
   ],
   "source": []
  },
  {
   "cell_type": "code",
   "execution_count": 37,
   "metadata": {},
   "outputs": [],
   "source": [
    "conn.close()"
   ]
  },
  {
   "cell_type": "code",
   "execution_count": 4,
   "metadata": {},
   "outputs": [
    {
     "name": "stdout",
     "output_type": "stream",
     "text": [
      "{'Id': 999, 'ASIN': '0312252099', 'title': 'The Cowboy and His Elephant : The Story of a Remarkable Friendship', 'group': 'Book', 'salesrank': 412546, 'similar': ['0060929510', '0226542378', '0439293138', '0385314280', '0393019624'], 'categories': [[[283155, 'Books'], [1000, 'Subjects'], [2, 'Biographies & Memoirs'], [2437, 'Specific Groups'], [2443, 'General']], [[283155, 'Books'], [1000, 'Subjects'], [75, 'Science'], [13469, 'Biological Sciences'], [13474, 'Animals'], [13499, 'Mammals']]], 'reviews': [{'time': 993700800, 'customer_id': 'A3O52OB19M6PZQ', 'rating': 5, 'votes': 4, 'helpful': 4}, {'time': 994392000, 'customer_id': 'A3ML4ZDZZLV9DO', 'rating': 4, 'votes': 2, 'helpful': 2}, {'time': 1000440000, 'customer_id': 'ADGN6LAG8XF8E', 'rating': 5, 'votes': 3, 'helpful': 3}, {'time': 1003204800, 'customer_id': 'A11YGKKKLTJ8R0', 'rating': 5, 'votes': 5, 'helpful': 5}, {'time': 1004328000, 'customer_id': 'A2DV39USD3ROKW', 'rating': 5, 'votes': 3, 'helpful': 3}, {'time': 1014782400, 'customer_id': 'AJLSP7YE9DGCU', 'rating': 5, 'votes': 1, 'helpful': 1}, {'time': 1035259200, 'customer_id': 'A3PJ61MQRVQRW3', 'rating': 5, 'votes': 8, 'helpful': 8}, {'time': 1038801600, 'customer_id': 'A3158HCB74263', 'rating': 4, 'votes': 2, 'helpful': 2}, {'time': 1048478400, 'customer_id': 'A12XR2KE0J7TUG', 'rating': 5, 'votes': 3, 'helpful': 3}, {'time': 1052020800, 'customer_id': 'A1A1OANQLIGXO9', 'rating': 5, 'votes': 3, 'helpful': 3}, {'time': 1081828800, 'customer_id': 'A16WVI5375OS6M', 'rating': 4, 'votes': 2, 'helpful': 2}, {'time': 1081828800, 'customer_id': 'A1ZCDPNMJZQ880', 'rating': 5, 'votes': 3, 'helpful': 3}, {'time': 1081828800, 'customer_id': 'A38S14MY2E1DT9', 'rating': 5, 'votes': 3, 'helpful': 3}, {'time': 1096430400, 'customer_id': 'A1PF6OJ8UHPYIR', 'rating': 5, 'votes': 3, 'helpful': 3}, {'time': 1119412800, 'customer_id': 'A2GXA7HUGP1XWA', 'rating': 5, 'votes': 0, 'helpful': 0}]}\n"
     ]
    }
   ],
   "source": [
    "with lzma.open('../data/dataset.json.xz') as file:\n",
    "    for prod in map(json.loads, file):\n",
    "        print(prod)\n",
    "        break"
   ]
  },
  {
   "cell_type": "code",
   "execution_count": 16,
   "metadata": {},
   "outputs": [
    {
     "name": "stdout",
     "output_type": "stream",
     "text": [
      "b\"UPDATE product_category(prod_id,cat_id,index) VALUES (1,'283155',0),(1,'1000',1),(1,'22',2),(1,'12290',3),(1,'12360',4),(1,'12368',5),(1,'283155',0),(1,'1000',1),(1,'22',2),(1,'12290',3),(1,'12360',4),(1,'12370',5),(2,'283155',0),(2,'1000',1),(2,'22',2),(2,'12472',3),(2,'12484',4),(2,'283155',0),(2,'1000',1),(2,'22',2),(2,'12472',3),(2,'12486',4),(3,'283155',0),(3,'1000',1),(3,'48',2),(3,'5126',3),(3,'5144',4),(4,'283155',0),(4,'1000',1),(4,'22',2),(4,'12290',3),(4,'172810',4),(4,'12155',5),(4,'12159',6),(4,'283155',0),(4,'1000',1),(4,'22',2),(4,'12290',3),(4,'12333',4),(4,'12335',5),(4,'283155',0),(4,'1000',1),(4,'22',2),(4,'12290',3),(4,'12059',4),(4,'764432',5),(4,'572080',6),(4,'283155',0),(4,'1000',1),(4,'22',2),(4,'12056',3),(4,'764430',4),(4,'572082',5),(4,'283155',0),(4,'1000',1),(4,'22',2),(4,'12290',3),(4,'12059',4),(4,'764438',5),(4,'572094',6),(5,'283155',0),(5,'1000',1),(5,'22',2),(5,'12290',3),(5,'12465',4),(5,'12470',5),(5,'283155',0),(5,'1000',1),(5,'22',2),(5,'12290',3),(5,'12333',4),(5,'297488',5),(6,'283155',0),(6,'1000',1),(6,'1',2),(6,'2020',3),(6,'2082',4),(6,'283155',0),(6,'1000',1),(6,'9',2),(6,'4808',3),(6,'4853',4),(6,'4870',5),(6,'283155',0),(6,'1000',1),(6,'9',2),(6,'4992',3),(6,'4993',4),(6,'283155',0),(6,'1000',1),(6,'53',2),(6,'11232',3),(6,'11288',4),(6,'11296',5),(6,'493964',0),(6,'502394',1),(6,'733540',2),(6,'733676',3),(7,'5174',0),(7,'301668',1),(7,'34',2),(7,'63926',3),(7,'5174',0),(7,'301668',1),(7,'34',2),(7,'63929',3),(7,'5174',0),(7,'468040',1),(7,'701208',2),(7,'916554',3),(8,'283155',0),(8,'1000',1),(8,'301889',2),(8,'10703',3),(8,'10716',4),(8,'283155',0),(8,'1000',1),(8,'53',2),(8,'11003',3),(8,'11005',4),(8,'283155',0),(8,'1000',1),(8,'53',2),(8,'11079',3),(8,'11083',4),(8,'283155',0),(8,'1000',1),(8,'53',2),(8,'11079',3),(8,'11117',4),(9,'283155',0),(9,'1000',1),(9,'6',2),(9,'4196',3),(9,'4197',4)\"\n",
      "syntax error at or near \"(\"\n",
      "LINE 1: UPDATE product_category(prod_id,cat_id,index) VALUES (1,'283...\n",
      "                               ^\n",
      "\n"
     ]
    }
   ],
   "source": [
    "from bdtp4.util import Oven\n",
    "from bdtp4.parser import parse\n",
    "from collections import Counter\n",
    "\n",
    "conn.reset()\n",
    "\n",
    "try:\n",
    "    cur.execute('DELETE FROM category')\n",
    "    cur.execute('DELETE FROM product')\n",
    "    cur.execute('DELETE FROM product_category')\n",
    "    conn.commit()\n",
    "except Exception as e:\n",
    "    print(e)\n",
    "    conn.rollback()\n",
    "    conn.reset()\n",
    "\n",
    "for batch in Oven(parse('../data/amazon-meta.txt'), 10):\n",
    "    dataset = batch\n",
    "    \n",
    "    uniqueCategories = set(z for x in dataset if 'categories' in x for y in x['categories'] for z in y)\n",
    "    categoriesIds = Counter(x[1] for x in uniqueCategories).most_common()\n",
    "    if len(uniqueCategories) != len(categoriesIds):\n",
    "        raise AssertionError('categories have tuples with similar id but different names')\n",
    "\n",
    "    try:\n",
    "        mogValues = (cur.mogrify('(%s,%s)', (_id, name)) for name, _id in uniqueCategories)\n",
    "        cur.execute(b'INSERT INTO category(id,name) VALUES ' + b','.join(mogValues))\n",
    "        conn.commit()\n",
    "    except Exception as e:\n",
    "        print(e)\n",
    "        conn.rollback()\n",
    "        conn.reset()\n",
    "        \n",
    "    try:\n",
    "        mogValues = (\n",
    "            cur.mogrify(\n",
    "                '(%s,%s,%s,%s,%s)',\n",
    "                (prod.get('id', None), prod.get('ASIN', None), prod.get('title', None), prod.get('group', None), prod.get('salesrank', None))\n",
    "            ) \n",
    "            for prod in dataset\n",
    "        )\n",
    "        cur.execute(b'INSERT INTO product(id,asin,title,\"group\",sales_rank) VALUES ' + b','.join(mogValues))\n",
    "        conn.commit()\n",
    "\n",
    "    except Exception as e:\n",
    "        print(e)\n",
    "        conn.rollback()\n",
    "        conn.reset()\n",
    "        \n",
    "    try:\n",
    "        mogValues = (\n",
    "            cur.mogrify('(%s,%s,%s)', (prod.get('id', None), catId, i))\n",
    "            for prod in dataset\n",
    "            if 'categories' in prod\n",
    "            for catList in prod['categories']\n",
    "            for i, (catName, catId) in enumerate(catList)\n",
    "        )\n",
    "        query = b'UPDATE product_category(prod_id,cat_id,index) VALUES ' + b','.join(mogValues)\n",
    "        print(query)\n",
    "        cur.execute(query)\n",
    "        conn.commit()\n",
    "\n",
    "    except Exception as e:\n",
    "        print(e)\n",
    "        conn.rollback()\n",
    "        conn.reset()\n",
    "\n",
    "    break"
   ]
  },
  {
   "cell_type": "code",
   "execution_count": 2,
   "metadata": {},
   "outputs": [],
   "source": [
    "from bdtp4.parser import parse\n",
    "dataset = list(parse('../data/amazon-meta.txt'))"
   ]
  },
  {
   "cell_type": "code",
   "execution_count": 3,
   "metadata": {},
   "outputs": [
    {
     "name": "stderr",
     "output_type": "stream",
     "text": [
      "[autoreload of bdtp4.parser failed: Traceback (most recent call last):\n",
      "  File \"/home/mard/Documents/bdtp4/.venv/lib/python3.8/site-packages/IPython/extensions/autoreload.py\", line 245, in check\n",
      "    superreload(m, reload, self.old_objects)\n",
      "  File \"/home/mard/Documents/bdtp4/.venv/lib/python3.8/site-packages/IPython/extensions/autoreload.py\", line 394, in superreload\n",
      "    module = reload(module)\n",
      "  File \"/home/mard/Documents/bdtp4/.venv/lib/python3.8/imp.py\", line 314, in reload\n",
      "    return importlib.reload(module)\n",
      "  File \"/home/mard/Documents/bdtp4/.venv/lib/python3.8/importlib/__init__.py\", line 169, in reload\n",
      "    _bootstrap._exec(spec, module)\n",
      "  File \"<frozen importlib._bootstrap>\", line 604, in _exec\n",
      "  File \"<frozen importlib._bootstrap_external>\", line 779, in exec_module\n",
      "  File \"<frozen importlib._bootstrap_external>\", line 916, in get_code\n",
      "  File \"<frozen importlib._bootstrap_external>\", line 846, in source_to_code\n",
      "  File \"<frozen importlib._bootstrap>\", line 219, in _call_with_frames_removed\n",
      "  File \"/home/mard/Documents/bdtp4/src/bdtp4/parser.py\", line 35\n",
      "    for line in file:\n",
      "    ^\n",
      "IndentationError: expected an indented block\n",
      "]\n"
     ]
    },
    {
     "data": {
      "text/plain": [
       "{'id': 371831,\n",
       " 'ASIN': '0789722097',\n",
       " 'title': \"Complete Idiot's Guide to Religions Online (Complete Idiot's Guide)\",\n",
       " 'group': 'Book',\n",
       " 'salesrank': '1005908',\n",
       " 'similar': [],\n",
       " 'categories': [[[283155, 'Books'],\n",
       "   [1000, 'Subjects'],\n",
       "   [5, 'Computers & Internet'],\n",
       "   [69765, 'Home & Office'],\n",
       "   [69766, 'Internet'],\n",
       "   [4112, 'Online Reference']],\n",
       "  [[283155, 'Books'],\n",
       "   [1000, 'Subjects'],\n",
       "   [5, 'Computers & Internet'],\n",
       "   [4053, 'Software'],\n",
       "   [549660, 'Introductory Guides'],\n",
       "   [4121, \"Complete Idiot's Guide: General\"]],\n",
       "  [[283155, 'Books'],\n",
       "   [1000, 'Subjects'],\n",
       "   [22, 'Religion & Spirituality'],\n",
       "   [12504, 'General']],\n",
       "  [[283155, 'Books'],\n",
       "   [1000, 'Subjects'],\n",
       "   [22, 'Religion & Spirituality'],\n",
       "   [12779, 'Religious Studies'],\n",
       "   [12783, 'Comparative Religion']],\n",
       "  [[283155, 'Books'],\n",
       "   [1000, 'Subjects'],\n",
       "   [5, 'Computers & Internet'],\n",
       "   [69765, 'Home & Office'],\n",
       "   [69766, 'Internet'],\n",
       "   [69771, 'Online Searching']],\n",
       "  [[283155, 'Books'],\n",
       "   [1000, 'Subjects'],\n",
       "   [21, 'Reference'],\n",
       "   [11626, 'Catalogs & Directories'],\n",
       "   [170941, 'Directories']],\n",
       "  [[283155, 'Books'],\n",
       "   [1000, 'Subjects'],\n",
       "   [5, 'Computers & Internet'],\n",
       "   [657762, 'General']],\n",
       "  [[509348, 'Specialty Stores'],\n",
       "   [727676, 'Software Books'],\n",
       "   [727858, 'Introductory Guides'],\n",
       "   [727862, \"Complete Idiot's Guide: General\"]],\n",
       "  [[285080, 'Amazon.com Stores'],\n",
       "   [764512, 'Home & Office'],\n",
       "   [768162, 'Computer & Internet Books'],\n",
       "   [768564, 'Internet'],\n",
       "   [768574, 'Online Reference']],\n",
       "  [[285080, 'Amazon.com Stores'],\n",
       "   [764512, 'Home & Office'],\n",
       "   [768162, 'Computer & Internet Books'],\n",
       "   [768564, 'Internet'],\n",
       "   [768604, 'Online Searching']]],\n",
       " 'reviews': [{'time': 949032000,\n",
       "   'customer_id': 'AW4FSTBRDEOG0',\n",
       "   'rating': 5,\n",
       "   'votes': 4,\n",
       "   'helpful': 4},\n",
       "  {'time': 956289600,\n",
       "   'customer_id': 'A3LF3571T5EVUX',\n",
       "   'rating': 5,\n",
       "   'votes': 5,\n",
       "   'helpful': 5},\n",
       "  {'time': 959400000,\n",
       "   'customer_id': 'A116P5NDONX09O',\n",
       "   'rating': 3,\n",
       "   'votes': 4,\n",
       "   'helpful': 2},\n",
       "  {'time': 959400000,\n",
       "   'customer_id': 'A116P5NDONX09O',\n",
       "   'rating': 3,\n",
       "   'votes': 3,\n",
       "   'helpful': 0},\n",
       "  {'time': 969336000,\n",
       "   'customer_id': 'A51EU2TKBJ8RY',\n",
       "   'rating': 5,\n",
       "   'votes': 5,\n",
       "   'helpful': 4},\n",
       "  {'time': 981777600,\n",
       "   'customer_id': 'A2T7MD1U6FFKK0',\n",
       "   'rating': 5,\n",
       "   'votes': 2,\n",
       "   'helpful': 2},\n",
       "  {'time': 1056772800,\n",
       "   'customer_id': 'A2XP5FYEVLQBF5',\n",
       "   'rating': 3,\n",
       "   'votes': 0,\n",
       "   'helpful': 0},\n",
       "  {'time': 1102392000,\n",
       "   'customer_id': 'AF9SY5YLN3JDX',\n",
       "   'rating': 5,\n",
       "   'votes': 4,\n",
       "   'helpful': 4}]}"
      ]
     },
     "execution_count": 3,
     "metadata": {},
     "output_type": "execute_result"
    }
   ],
   "source": [
    "import random\n",
    "random.choice(dataset)"
   ]
  },
  {
   "cell_type": "code",
   "execution_count": 8,
   "metadata": {},
   "outputs": [],
   "source": [
    "uniqueCategories = set((catName, int(catId)) for x in dataset if 'categories' in x for y in x['categories'] for catName, catId in y)"
   ]
  },
  {
   "cell_type": "code",
   "execution_count": 4,
   "metadata": {},
   "outputs": [],
   "source": [
    "\n",
    "\n",
    "\n",
    "with open('../data/amazon-meta.txt') as file:\n",
    "    data = file.read().split('\\n\\n')"
   ]
  },
  {
   "cell_type": "code",
   "execution_count": null,
   "metadata": {},
   "outputs": [
    {
     "name": "stderr",
     "output_type": "stream",
     "text": [
      "\r",
      "  0%|          | 0/548554 [00:00<?, ?it/s]"
     ]
    }
   ],
   "source": [
    "from bdtp4.parallelParser import parse\n",
    "import pathlib\n",
    "\n",
    "total = list(parse(pathlib.Path('../data/amazon-meta.txt')))"
   ]
  },
  {
   "cell_type": "code",
   "execution_count": null,
   "metadata": {},
   "outputs": [],
   "source": []
  },
  {
   "cell_type": "code",
   "execution_count": 1,
   "metadata": {},
   "outputs": [],
   "source": [
    "import lzma\n",
    "import json\n",
    "\n",
    "with lzma.open('out.json.xz', 'wb') as f:\n",
    "    f.write(json.dumps({'a': 1}).encode())"
   ]
  },
  {
   "cell_type": "code",
   "execution_count": null,
   "metadata": {},
   "outputs": [],
   "source": []
  }
 ],
 "metadata": {
  "kernelspec": {
   "display_name": "Python 3",
   "language": "python",
   "name": "python3"
  },
  "language_info": {
   "codemirror_mode": {
    "name": "ipython",
    "version": 3
   },
   "file_extension": ".py",
   "mimetype": "text/x-python",
   "name": "python",
   "nbconvert_exporter": "python",
   "pygments_lexer": "ipython3",
   "version": "3.8.0"
  }
 },
 "nbformat": 4,
 "nbformat_minor": 2
}
