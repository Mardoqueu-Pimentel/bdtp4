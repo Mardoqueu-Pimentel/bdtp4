{
 "cells": [
  {
   "cell_type": "code",
   "execution_count": 1,
   "metadata": {},
   "outputs": [],
   "source": [
    "%load_ext autoreload\n",
    "%autoreload 2"
   ]
  },
  {
   "cell_type": "code",
   "execution_count": 2,
   "metadata": {},
   "outputs": [],
   "source": [
    "from bdtp4.parser import parse\n",
    "dataset = {e['id']: e for e in parse('../data/amazon-meta.txt') if e}"
   ]
  },
  {
   "cell_type": "code",
   "execution_count": 2,
   "metadata": {},
   "outputs": [],
   "source": [
    "import lzma\n",
    "import json\n",
    "with lzma.open('../data/dataset.json.xz') as file:\n",
    "    dataset = json.load(file)"
   ]
  },
  {
   "cell_type": "code",
   "execution_count": 3,
   "metadata": {},
   "outputs": [
    {
     "data": {
      "text/plain": [
       "{'id': 256623,\n",
       " 'ASIN': '0764508210',\n",
       " 'title': 'Microsoft FrontPage 2002 for Dummies (With CD-ROM)',\n",
       " 'group': 'Book',\n",
       " 'salesrank': '36517',\n",
       " 'similar': ['0735613001',\n",
       "  '0072133643',\n",
       "  '076453582X',\n",
       "  '0201741431',\n",
       "  '0735612846'],\n",
       " 'categories': [['Books', '283155'],\n",
       "  ['Subjects', '1000'],\n",
       "  ['Computers & Internet', '5'],\n",
       "  ['Web Development', '3510'],\n",
       "  ['Internet Commerce', '3554'],\n",
       "  ['Web Site Design', '3565'],\n",
       "  ['Books', '283155'],\n",
       "  ['Subjects', '1000'],\n",
       "  ['Computers & Internet', '5'],\n",
       "  ['Networking', '3652'],\n",
       "  ['Internet, Groupware, & Telecommunications', '3705'],\n",
       "  ['Internet Publishing', '3710'],\n",
       "  ['Books', '283155'],\n",
       "  ['Subjects', '1000'],\n",
       "  ['Computers & Internet', '5'],\n",
       "  ['Software', '4053'],\n",
       "  ['Introductory Guides', '549660'],\n",
       "  ['For Dummies: General', '4123'],\n",
       "  ['Books', '283155'],\n",
       "  ['Subjects', '1000'],\n",
       "  ['Computers & Internet', '5'],\n",
       "  ['Graphics & Illustration', '4134'],\n",
       "  ['Desktop Publishing', '4094'],\n",
       "  ['General', '171130'],\n",
       "  ['Books', '283155'],\n",
       "  ['Subjects', '1000'],\n",
       "  ['Computers & Internet', '5'],\n",
       "  ['Microsoft', '285844'],\n",
       "  ['Applications', '285846'],\n",
       "  ['FrontPage', '3534'],\n",
       "  ['General', '502178'],\n",
       "  ['Books', '283155'],\n",
       "  ['Subjects', '1000'],\n",
       "  ['Computers & Internet', '5'],\n",
       "  ['Home & Office', '69765'],\n",
       "  ['Windows', '549658'],\n",
       "  ['Desktop Publishing', '549712'],\n",
       "  ['Books', '283155'],\n",
       "  ['Subjects', '1000'],\n",
       "  ['Computers & Internet', '5'],\n",
       "  ['Home & Office', '69765'],\n",
       "  ['Windows', '549658'],\n",
       "  ['Web Publishing', '549714'],\n",
       "  ['Books', '283155'],\n",
       "  ['Subjects', '1000'],\n",
       "  ['Computers & Internet', '5'],\n",
       "  ['General', '657762'],\n",
       "  ['Specialty Stores', '509348'],\n",
       "  ['Software Books', '727676'],\n",
       "  ['Introductory Guides', '727858'],\n",
       "  ['For Dummies: General', '727866'],\n",
       "  ['Amazon.com Stores', '285080'],\n",
       "  ['Home & Office', '764512'],\n",
       "  ['Computer & Internet Books', '768162'],\n",
       "  ['Windows', '768182'],\n",
       "  ['Desktop Publishing', '768214'],\n",
       "  ['Amazon.com Stores', '285080'],\n",
       "  ['Home & Office', '764512'],\n",
       "  ['Computer & Internet Books', '768162'],\n",
       "  ['Windows', '768182'],\n",
       "  ['Web Publishing', '768216'],\n",
       "  ['Amazon.com Stores', '285080'],\n",
       "  ['Home & Office', '764512'],\n",
       "  ['Computer & Internet Books', '768162'],\n",
       "  ['Word, Excel & More', '768228'],\n",
       "  ['Graphics, Animation & Illustration', '768256'],\n",
       "  ['Web Publishing', '768264'],\n",
       "  ['FrontPage', '768266'],\n",
       "  ['General', '768270']],\n",
       " 'reviews': [{'time': 1014436800,\n",
       "   'customer_id': 'A3NLFD5MRCJW3L',\n",
       "   'rating': 1,\n",
       "   'votes': 27,\n",
       "   'helpful': 18},\n",
       "  {'time': 1017806400,\n",
       "   'customer_id': 'A3UN6WX5RRO2AG',\n",
       "   'rating': 5,\n",
       "   'votes': 27,\n",
       "   'helpful': 25},\n",
       "  {'time': 1022040000,\n",
       "   'customer_id': 'AUY2L6CQ91DMM',\n",
       "   'rating': 4,\n",
       "   'votes': 16,\n",
       "   'helpful': 13},\n",
       "  {'time': 1024459200,\n",
       "   'customer_id': 'A1TBQ5IUP2HD7Q',\n",
       "   'rating': 2,\n",
       "   'votes': 22,\n",
       "   'helpful': 20},\n",
       "  {'time': 1029729600,\n",
       "   'customer_id': 'A1IF9X7FLZZ62Q',\n",
       "   'rating': 1,\n",
       "   'votes': 36,\n",
       "   'helpful': 33},\n",
       "  {'time': 1096344000,\n",
       "   'customer_id': 'ASUWKUWG47DSP',\n",
       "   'rating': 4,\n",
       "   'votes': 4,\n",
       "   'helpful': 2}]}"
      ]
     },
     "execution_count": 3,
     "metadata": {},
     "output_type": "execute_result"
    }
   ],
   "source": [
    "import random\n",
    "random.choice(list(dataset.values()))"
   ]
  },
  {
   "cell_type": "code",
   "execution_count": 7,
   "metadata": {},
   "outputs": [],
   "source": [
    "import psycopg2 as pg\n",
    "\n",
    "conn = pg.connect(dbname='bdtp4', user='mard', password='1234')"
   ]
  },
  {
   "cell_type": "code",
   "execution_count": 8,
   "metadata": {},
   "outputs": [],
   "source": [
    "cursor = conn.cursor()"
   ]
  },
  {
   "cell_type": "code",
   "execution_count": 40,
   "metadata": {},
   "outputs": [],
   "source": [
    "mogrifiedValues = []\n",
    "for value in dataset.values():\n",
    "    _id = value['id']\n",
    "    _asin = value['ASIN']\n",
    "    _title = value.get('title', None)\n",
    "    _group = value.get('group', None)\n",
    "    _salesRank = value.get('salesrank', None)\n",
    "    \n",
    "    mv = cursor.mogrify('(%s,%s,%s,%s,%s)', (_id, _asin, _title, _group, _salesRank))\n",
    "    mogrifiedValues.append(mv)"
   ]
  },
  {
   "cell_type": "code",
   "execution_count": 41,
   "metadata": {},
   "outputs": [],
   "source": [
    "values = b','.join(mogrifiedValues)"
   ]
  },
  {
   "cell_type": "code",
   "execution_count": 42,
   "metadata": {},
   "outputs": [],
   "source": [
    "cursor.execute(b'INSERT INTO product VALUES ' + values)\n",
    "conn.commit()"
   ]
  },
  {
   "cell_type": "code",
   "execution_count": 38,
   "metadata": {},
   "outputs": [],
   "source": [
    "cursor.execute('DELETE FROM product')"
   ]
  },
  {
   "cell_type": "code",
   "execution_count": 43,
   "metadata": {},
   "outputs": [],
   "source": [
    "categories = "
   ]
  },
  {
   "cell_type": "code",
   "execution_count": null,
   "metadata": {},
   "outputs": [],
   "source": []
  }
 ],
 "metadata": {
  "kernelspec": {
   "display_name": "Python 3",
   "language": "python",
   "name": "python3"
  },
  "language_info": {
   "codemirror_mode": {
    "name": "ipython",
    "version": 3
   },
   "file_extension": ".py",
   "mimetype": "text/x-python",
   "name": "python",
   "nbconvert_exporter": "python",
   "pygments_lexer": "ipython3",
   "version": "3.8.0"
  }
 },
 "nbformat": 4,
 "nbformat_minor": 2
}
