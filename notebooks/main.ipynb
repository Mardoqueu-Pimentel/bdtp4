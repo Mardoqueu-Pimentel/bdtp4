{
 "cells": [
  {
   "cell_type": "code",
   "execution_count": 1,
   "metadata": {},
   "outputs": [],
   "source": [
    "%load_ext autoreload\n",
    "%autoreload 2"
   ]
  },
  {
   "cell_type": "code",
   "execution_count": 7,
   "metadata": {},
   "outputs": [],
   "source": [
    "from bdtp4.parser import parse\n",
    "import json\n",
    "import re\n",
    "\n",
    "dataset = {}\n",
    "for e in filter(lambda x: x, parse('../data/amazon-meta.txt')):\n",
    "    e = dict((k.decode() if type(k) is bytes else k, v.decode() if type(v) is bytes else v) for k, v in e.items())\n",
    "    \n",
    "    for k in ['id', 'salesrank']:\n",
    "        if k in e:\n",
    "            e[k] = int(e[k])\n",
    "    \n",
    "    if 'categories' in e:\n",
    "        e['categories'] = re.findall(r'(?<=\\|)([^\\|\\[]+)\\[(\\d+)\\]', ''.join(e['categories']))\n",
    "\n",
    "    if 'similar_items' in e:\n",
    "        e['similar'] = e.pop('similar_items')\n",
    "    \n",
    "    dataset[e['id']] = e"
   ]
  },
  {
   "cell_type": "code",
   "execution_count": 8,
   "metadata": {},
   "outputs": [
    {
     "data": {
      "text/plain": [
       "{'id': 533871,\n",
       " 'ASIN': '0788199706',\n",
       " 'title': 'Think Like a Champion',\n",
       " 'group': 'Book',\n",
       " 'salesrank': 1612881,\n",
       " 'similar': ['0834210215',\n",
       "  '076192566X',\n",
       "  '0809231719',\n",
       "  '0060579447',\n",
       "  '0425141756'],\n",
       " 'categories': [('Books', '283155'),\n",
       "  ('Specialty Stores', '504360'),\n",
       "  ('jp-unknown1', '1061348'),\n",
       "  ('Books', '283155'),\n",
       "  ('Subjects', '1000'),\n",
       "  ('Sports', '26'),\n",
       "  ('General', '11086921')],\n",
       " 'reviews': [{'time': 935294400.0,\n",
       "   'customer_id': 'A2WKAL0VESHPYO',\n",
       "   'rating': 5,\n",
       "   'votes': 2,\n",
       "   'helpful': 2},\n",
       "  {'time': 935467200.0,\n",
       "   'customer_id': 'A24BI5J96Q5DDD',\n",
       "   'rating': 5,\n",
       "   'votes': 1,\n",
       "   'helpful': 1},\n",
       "  {'time': 935899200.0,\n",
       "   'customer_id': 'A7MM8RMX79EJD',\n",
       "   'rating': 5,\n",
       "   'votes': 2,\n",
       "   'helpful': 2},\n",
       "  {'time': 941601600.0,\n",
       "   'customer_id': 'ANZZU2PGU9IC7',\n",
       "   'rating': 5,\n",
       "   'votes': 4,\n",
       "   'helpful': 3},\n",
       "  {'time': 947390400.0,\n",
       "   'customer_id': 'A4QT91PMRSZWO',\n",
       "   'rating': 5,\n",
       "   'votes': 6,\n",
       "   'helpful': 5},\n",
       "  {'time': 951278400.0,\n",
       "   'customer_id': 'A2TWX4KPO4SND5',\n",
       "   'rating': 4,\n",
       "   'votes': 4,\n",
       "   'helpful': 3},\n",
       "  {'time': 981086400.0,\n",
       "   'customer_id': 'A14Q45ZFDTTUSE',\n",
       "   'rating': 5,\n",
       "   'votes': 1,\n",
       "   'helpful': 1},\n",
       "  {'time': 981086400.0,\n",
       "   'customer_id': 'A14Q45ZFDTTUSE',\n",
       "   'rating': 5,\n",
       "   'votes': 1,\n",
       "   'helpful': 1},\n",
       "  {'time': 981086400.0,\n",
       "   'customer_id': 'A14Q45ZFDTTUSE',\n",
       "   'rating': 5,\n",
       "   'votes': 4,\n",
       "   'helpful': 4},\n",
       "  {'time': 990676800.0,\n",
       "   'customer_id': 'A1OX82JPAQLL60',\n",
       "   'rating': 5,\n",
       "   'votes': 2,\n",
       "   'helpful': 2},\n",
       "  {'time': 1029211200.0,\n",
       "   'customer_id': 'A3OOCV4BXD62NA',\n",
       "   'rating': 5,\n",
       "   'votes': 4,\n",
       "   'helpful': 4}]}"
      ]
     },
     "execution_count": 8,
     "metadata": {},
     "output_type": "execute_result"
    }
   ],
   "source": [
    "import random\n",
    "random.choice(list(dataset.values()))"
   ]
  },
  {
   "cell_type": "code",
   "execution_count": 14,
   "metadata": {},
   "outputs": [],
   "source": [
    "import json\n",
    "\n",
    "with open('../data/dataset.json', 'w') as file:\n",
    "    json.dump(dataset, file)"
   ]
  },
  {
   "cell_type": "code",
   "execution_count": null,
   "metadata": {},
   "outputs": [],
   "source": []
  }
 ],
 "metadata": {
  "kernelspec": {
   "display_name": "Python 3",
   "language": "python",
   "name": "python3"
  },
  "language_info": {
   "codemirror_mode": {
    "name": "ipython",
    "version": 3
   },
   "file_extension": ".py",
   "mimetype": "text/x-python",
   "name": "python",
   "nbconvert_exporter": "python",
   "pygments_lexer": "ipython3",
   "version": "3.8.0"
  }
 },
 "nbformat": 4,
 "nbformat_minor": 2
}
